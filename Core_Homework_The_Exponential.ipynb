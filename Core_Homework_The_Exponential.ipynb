{
  "nbformat": 4,
  "nbformat_minor": 0,
  "metadata": {
    "colab": {
      "provenance": [],
      "authorship_tag": "ABX9TyM6lD3iv9IHzuutsiHOG4wQ",
      "include_colab_link": true
    },
    "kernelspec": {
      "name": "python3",
      "display_name": "Python 3"
    },
    "language_info": {
      "name": "python"
    }
  },
  "cells": [
    {
      "cell_type": "markdown",
      "metadata": {
        "id": "view-in-github",
        "colab_type": "text"
      },
      "source": [
        "<a href=\"https://colab.research.google.com/github/SpenBobCat/Calculus-1-Single_Variable/blob/main/Core_Homework_The_Exponential.ipynb\" target=\"_parent\"><img src=\"https://colab.research.google.com/assets/colab-badge.svg\" alt=\"Open In Colab\"/></a>"
      ]
    },
    {
      "cell_type": "markdown",
      "source": [
        "**Calculus: Single Variable**\n",
        "\n",
        "# Exam 2: Core Homework: The Exponential\n",
        "\n",
        "Coursera - University of Pennsylvania\n",
        "\n",
        "By:  Michael Spencer 8/3/2023"
      ],
      "metadata": {
        "id": "1R0EwQm4bv0y"
      }
    },
    {
      "cell_type": "markdown",
      "source": [
        "## 1. Find all possible solutions to the equation $e^{ix} = i$\n",
        "\n",
        "a. $x = \\frac{\\pi}{4}$\n",
        "\n",
        "b. $x = \\frac{(4n+1)\\pi}{2}$ for all $n \\in z$\n",
        "\n",
        "c. $x = \\frac{(2n+1)\\pi}{2}$ for all $n \\in z$\n",
        "\n",
        "d. $x = n\\pi$ for all $n \\in z$\n",
        "\n",
        "e. $x = \\frac{\\pi}{2}$\n",
        "\n",
        "f. $x = \\frac{n\\pi}{4}$ for all $n \\in z$"
      ],
      "metadata": {
        "id": "p25Pnl-vb4tU"
      }
    },
    {
      "cell_type": "markdown",
      "source": [
        "To solve this equation, we first need to remember that $e^{ix}$ can be represented using Euler's formula:\n",
        "\n",
        "$e^{ix} = \\cos(x) + i\\sin(x)$\n",
        "\n",
        "Setting this equal to $i$, we get:\n",
        "\n",
        "$\\cos(x) + i\\sin(x) = 0 + 1i$\n",
        "\n",
        "This gives us two equations, equating the real and imaginary parts:\n",
        "\n",
        "$\\cos(x) = 0$\n",
        "$\\sin(x) = 1$\n",
        "\n",
        "The solution to $\\cos(x) = 0$ is $x = \\frac{(2n+1)\\pi}{2}$ for $n \\in \\mathbb{Z}$, but this does not satisfy $\\sin(x) = 1$.\n",
        "\n",
        "The solution to $\\sin(x) = 1$ is $x = \\frac{n\\pi}{2} + \\pi$ for $n \\in \\mathbb{Z}$, but we need to find when the sine function equals 1. This happens when $x = \\frac{\\pi}{2} + 2n\\pi$ for $n \\in \\mathbb{Z}$.\n",
        "\n",
        "Comparing these solutions, we need to find an intersection of these two solution sets which happens at $x = \\frac{(4n+1)\\pi}{2}$ for $n \\in \\mathbb{Z}$.\n",
        "\n",
        "So, the correct answer is:\n",
        "\n",
        "b. $x = \\frac{(4n+1)\\pi}{2}$ for all $n \\in z$"
      ],
      "metadata": {
        "id": "nZXf6ILF_Fnv"
      }
    },
    {
      "cell_type": "markdown",
      "source": [
        "## 2. Calculate $\\sum_{k=0}^{\\infty}(-1)^k(\\frac{\\ln(4)^k}{k!})$"
      ],
      "metadata": {
        "id": "e5h80Z6UAPG5"
      }
    },
    {
      "cell_type": "markdown",
      "source": [
        "a. $e^4$\n",
        "\n",
        "b. $e^{-4}$\n",
        "\n",
        "c. $-\\frac{1}{4}$\n",
        "\n",
        "d. $-4$\n",
        "\n",
        "e. $4$\n",
        "\n",
        "f. $\\frac{1}{4}$"
      ],
      "metadata": {
        "id": "tEyqQw6a-2u3"
      }
    },
    {
      "cell_type": "markdown",
      "source": [
        "The given series is the Taylor series expansion of the exponential function $e^x$, with $x = -\\ln(4)$.\n",
        "\n",
        "Recall that the Taylor series expansion of $e^x$ is\n",
        "\n",
        "$e^x = \\sum_{k=0}^{\\infty} \\frac{x^k}{k!}$\n",
        "\n",
        "So if we plug $x = -\\ln(4)$ into this formula, we get\n",
        "\n",
        "$e^{-\\ln(4)} = \\sum_{k=0}^{\\infty} \\frac{(-\\ln(4))^k}{k!}$\n",
        "\n",
        "Which is exactly the series given in the question. However, since $e^{\\ln(a)} = a$, it follows that $e^{-\\ln(a)} = \\frac{1}{a}$. So $e^{-\\ln(4)} = \\frac{1}{4}$.\n",
        "\n",
        "Therefore, the sum of the series is:\n",
        "\n",
        "f. $\\frac{1}{4}$"
      ],
      "metadata": {
        "id": "f34wnGCtB8pK"
      }
    },
    {
      "cell_type": "markdown",
      "source": [
        "## 3. Calculate $\\sum_{k=0}^{\\infty}(-1)^k\\frac{\\pi^{2k}}{(2k)!}$\n",
        "\n",
        "a. $1$\n",
        "\n",
        "b. $\\pi$\n",
        "\n",
        "c. $e^{\\pi}$\n",
        "\n",
        "d. $0$\n",
        "\n",
        "e. $-1$\n",
        "\n",
        "f. $-\\pi$"
      ],
      "metadata": {
        "id": "190LxmW9CJiM"
      }
    },
    {
      "cell_type": "markdown",
      "source": [
        "The given series is a representation of the Maclaurin series expansion of the cosine function.\n",
        "\n",
        "The Maclaurin series for $\\cos(x)$ is\n",
        "\n",
        "$\\cos(x) = \\sum_{k=0}^{\\infty} \\frac{(-1)^k x^{2k}}{(2k)!}$\n",
        "\n",
        "So if we plug $x = \\pi$ into this formula, we get\n",
        "\n",
        "$\\cos(\\pi) = \\sum_{k=0}^{\\infty} \\frac{(-1)^k \\pi^{2k}}{(2k)!}$\n",
        "\n",
        "Which is exactly the series given in the question. Since $\\cos(\\pi) = -1$, the sum of the series is:\n",
        "\n",
        "e. $-1$"
      ],
      "metadata": {
        "id": "z6Lhw6vlCyyP"
      }
    },
    {
      "cell_type": "markdown",
      "source": [
        "## 4. Write out the first four terms of the sum: $\\sum_{k=1}^{\\infty}\\frac{(-1)^{k+1}2k}{2k-1}$"
      ],
      "metadata": {
        "id": "B4LViFDSET-d"
      }
    },
    {
      "cell_type": "markdown",
      "source": [
        "The sum $\\sum_{k=1}^{\\infty}\\frac{(-1)^{k+1}2k}{2k-1}$ is an infinite series where we plug in values of $k$ starting from 1. We can calculate the first four terms of the sum as follows:\n",
        "\n",
        "For $k=1$, the term is $\\frac{(-1)^{1+1}21}{21-1} = \\frac{2}{1} = 2$.\n",
        "\n",
        "For $k=2$, the term is $\\frac{(-1)^{2+1}22}{22-1} = -\\frac{4}{3}$.\n",
        "\n",
        "For $k=3$, the term is $\\frac{(-1)^{3+1}23}{23-1} = \\frac{6}{5}$.\n",
        "\n",
        "For $k=4$, the term is $\\frac{(-1)^{4+1}24}{24-1} = -\\frac{8}{7}$.\n",
        "\n",
        "So, the first four terms of the series are $2, -\\frac{4}{3}, \\frac{6}{5}, -\\frac{8}{7}$."
      ],
      "metadata": {
        "id": "JqaZPpAlE9O6"
      }
    },
    {
      "cell_type": "markdown",
      "source": [
        "## 5. Write out the first four terms of the sum: $\\sum_{k=0}^{\\infty}\\frac{(-1)^{k}\\pi^{2k}}{k!(2k+1)}$"
      ],
      "metadata": {
        "id": "f9wNZFitYJFu"
      }
    },
    {
      "cell_type": "markdown",
      "source": [
        "The general term of the series is $a_k = \\frac{(-1)^{k}\\pi^{2k}}{k!(2k+1)}$. We want to find the first four terms, which are $a_0, a_1, a_2,$ and $a_3$.\n",
        "\n",
        "For $k=0$: $a_0 = \\frac{(-1)^{0}\\pi^{20}}{0!(20+1)} = \\frac{1}{1} = 1$\n",
        "For $k=1$: $a_1 = \\frac{(-1)^{1}\\pi^{21}}{1!(21+1)} = -\\frac{\\pi^2}{3}$\n",
        "For $k=2$: $a_2 = \\frac{(-1)^{2}\\pi^{22}}{2!(22+1)} = \\frac{\\pi^4}{5\\cdot2!} = \\frac{\\pi^4}{10}$\n",
        "For $k=3$: $a_3 = \\frac{(-1)^{3}\\pi^{23}}{3!(23+1)} = -\\frac{\\pi^6}{7\\cdot3!} = -\\frac{\\pi^6}{42}$\n",
        "So, the first four terms of the sum are $1, -\\frac{\\pi^2}{3}, \\frac{\\pi^4}{10}, -\\frac{\\pi^6}{42}$."
      ],
      "metadata": {
        "id": "opfeDADsYnd-"
      }
    },
    {
      "cell_type": "markdown",
      "source": [
        "## 6. Which expression descirbes the sum: $\\frac{e}{2}-\\frac{e^2}{4}+\\frac{e^3}{6}-\\frac{e^4}{8}+...?$\n",
        "\n",
        "a. $\\sum_{k=1}^{\\infty}(-1)^k\\frac{e^{k+1}}{2k+2}$\n",
        "\n",
        "b. $\\sum_{k=1}^{\\infty}(-1)^k\\frac{e^{k}}{2k}$\n",
        "\n",
        "c. $\\sum_{k=0}^{\\infty}(-1)^{k+1}\\frac{e^{k}}{2k}$\n",
        "\n",
        "d. $\\sum_{k=0}^{\\infty}(-1)^{k+1}\\frac{e^{k+1}}{2k+2}$\n",
        "\n",
        "e. $\\sum_{k=0}^{\\infty}(-1)^k\\frac{e^{k+1}}{2k+2}$\n",
        "\n",
        "f. $\\sum_{k=1}^{\\infty}(-1)^{k+1}\\frac{e^{k}}{2k}$"
      ],
      "metadata": {
        "id": "knFPY1Ez6u2O"
      }
    },
    {
      "cell_type": "markdown",
      "source": [
        "**Solution:**  e. $\\sum_{k=0}^{\\infty}(-1)^k\\frac{e^{k+1}}{2k+2}$\n",
        "\n",
        "$(-1)^0 = 1$ \\\\\n",
        "$(-1)^1 = -1$ \\\\\n",
        "$(-1)^2 = 1$ \\\\\n",
        "$(-1)^3 = -1$ \\\\\n",
        "$(-1)^4 = 1$\n",
        "\n",
        "Above indicates that the signs will be alternating for the solution.  Then substituting $0, 1, 2, 3, 4$ into $k$ you will get the following solution:\n",
        "\n",
        "$\\sum_{k=0}^{\\infty}(-1)^k\\frac{e^{k+1}}{2k+2}$"
      ],
      "metadata": {
        "id": "NL9NzsEa-6g8"
      }
    },
    {
      "cell_type": "markdown",
      "source": [
        "## 7. $y = \\ln(x)$ and $z = \\log_{10}x$\n",
        "\n",
        "Eliminate $x$ between the two equations to find the relationship between $y$ and $z$.\n",
        "\n",
        "a. $y = \\frac{z}{\\ln(10)}$\n",
        "\n",
        "b. $z = \\frac{y}{\\log_{10}e}$\n",
        "\n",
        "c. $z = y \\log_{10}e$\n",
        "\n",
        "d. $y = z\\;ln(10)$\n",
        "\n",
        "\n",
        "To eliminate $x$ between the two equations, we can use the property of logarithms that states:\n",
        "\n",
        "$\\log_{a}(b) = \\frac{\\ln(b)}{\\ln(a)}$\n",
        "\n",
        "Using this property, let's rewrite the given equations:\n",
        "\n",
        "$y = \\ln(x)$\n",
        "\n",
        "$z = \\log_{10}(x) = \\frac{\\ln(x)}{\\ln(10)}$\n",
        "\n",
        "Now, we have both equations in terms of $\\ln(x)$:\n",
        "\n",
        "$y = \\ln(x)$\n",
        "\n",
        "$z = \\frac{\\ln(x)}{\\ln(10)}$\n",
        "\n",
        "Next, let's solve for $\\ln(x)$ in terms of $y$ and $z$:\n",
        "\n",
        "From the first equation, $\\ln(x) = y$\n",
        "\n",
        "From the second equation, $\\ln(x) = z \\cdot \\ln(10)$\n",
        "\n",
        "Since both expressions are equal to $\\ln(x)$, we can equate them:\n",
        "\n",
        "$y = z \\cdot \\ln(10)$\n",
        "\n",
        "Now, we need to express $y$ in terms of $z$ to find the relationship between $y$ and $z$. Divide both sides by $\\ln(10)$:\n",
        "\n",
        "$y = \\frac{z}{\\ln(10)}$\n",
        "\n",
        "The correct relationship between $y$ and $z$ is option a:\n",
        "\n",
        "$y = \\frac{z}{\\ln(10)}$\n",
        "\n",
        "Therefore, the answer is:\n",
        "\n",
        "a. $y = \\frac{z}{\\ln(10)}$"
      ],
      "metadata": {
        "id": "vhXKpk1XPpY6"
      }
    },
    {
      "cell_type": "markdown",
      "source": [
        "## 8. Which of the following expressions describes the sum: $-1 + \\frac{x}{2 \\cdot 1} - \\frac{x^2}{3 \\cdot 2 \\cdot 1} + \\frac{x^3}{4\\cdot3\\cdot2\\cdot1} + ...?$\n",
        "\n",
        "\n",
        "a. $\\sum_{k=0}^{\\infty}(-1)^{k+1}\\frac{x^{k}}{(k+1)!}$\n",
        "\n",
        "b. $\\sum_{k=1}^{\\infty}(-1)^{k-1}\\frac{x^{k-1}}{(k+1)!}$\n",
        "\n",
        "c. $\\sum_{k=0}^{\\infty}(-1)^{k}\\frac{x^{k}}{k!}$\n",
        "\n",
        "d. $\\sum_{k=0}^{\\infty}(-1)^{k}\\frac{x^{k}}{(k+1)!}$\n",
        "\n",
        "e. $\\sum_{k=1}^{\\infty}(-1)^{k+1}\\frac{x^{k}}{(k+1)!}$\n",
        "\n",
        "f. $\\sum_{k=1}^{\\infty}(-1)^{k}\\frac{x^{k-1}}{k!}$\n"
      ],
      "metadata": {
        "id": "JlLh8TJmnAwQ"
      }
    },
    {
      "cell_type": "markdown",
      "source": [
        "$-1 + \\frac{x}{2 \\cdot 1} - \\frac{x^2}{3 \\cdot 2 \\cdot 1} + \\frac{x^3}{4\\cdot3\\cdot2\\cdot1} + ...$\n",
        "\n",
        "The expression in option f is:\n",
        "\n",
        "$\\sum_{k=1}^{\\infty}(-1)^{k}\\frac{x^{k-1}}{k!}$\n",
        "\n",
        "To see if option f matches the given series, let's expand the first few terms:\n",
        "\n",
        "$k = 1$: $(-1)^1 \\frac{x^{1-1}}{1!} = -x$\n",
        "\n",
        "$k = 2$: $(-1)^2 \\frac{x^{2-1}}{2!} = \\frac{x}{2}$\n",
        "\n",
        "$k = 3$: $(-1)^3 \\frac{x^{3-1}}{3!} = -\\frac{x^2}{6}$\n",
        "\n",
        "So, the partial sum of the series in option f is:\n",
        "\n",
        "$-x + \\frac{x}{2} - \\frac{x^2}{6} + ...$"
      ],
      "metadata": {
        "id": "ugj2GDyxXBub"
      }
    }
  ]
}