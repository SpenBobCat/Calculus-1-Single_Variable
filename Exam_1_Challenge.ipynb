{
  "nbformat": 4,
  "nbformat_minor": 0,
  "metadata": {
    "colab": {
      "provenance": [],
      "toc_visible": true,
      "authorship_tag": "ABX9TyMngh/Gz/eyL6vI+oI6ZiDT",
      "include_colab_link": true
    },
    "kernelspec": {
      "name": "python3",
      "display_name": "Python 3"
    },
    "language_info": {
      "name": "python"
    }
  },
  "cells": [
    {
      "cell_type": "markdown",
      "metadata": {
        "id": "view-in-github",
        "colab_type": "text"
      },
      "source": [
        "<a href=\"https://colab.research.google.com/github/SpenBobCat/Calculus-1-Single_Variable/blob/main/Exam_1_Challenge.ipynb\" target=\"_parent\"><img src=\"https://colab.research.google.com/assets/colab-badge.svg\" alt=\"Open In Colab\"/></a>"
      ]
    },
    {
      "cell_type": "markdown",
      "source": [
        "**Calculus: Single Variable**\n",
        "\n",
        "# Exam 1: Challenge Homework: Functions\n",
        "\n",
        "Coursera - University of Pennsylvania\n",
        "\n",
        "By:  Michael Spencer 8/3/2023"
      ],
      "metadata": {
        "id": "-a-AprS3xH0w"
      }
    },
    {
      "cell_type": "markdown",
      "source": [
        "## 1. What is the domain of the function $\\ln \\sin(x)$?\n",
        "\n",
        "The domain of a function is the set of all possible input values (in this case, x-values) that the function can accept. For the function $\\ln(\\sin(x))$, we have two main restrictions to consider:\n",
        "\n",
        "- The argument of the logarithm must be greater than zero. For the natural logarithm function, this means that the value of $\\sin(x)$ must be greater than zero.\n",
        "\n",
        "- The function $\\sin(x)$ has its values between -1 and 1 inclusive.\n",
        "\n",
        "Combining these two considerations, the domain of $\\ln(\\sin(x))$ would be the values of $x$ for which $\\sin(x)$ is greater than zero.\n",
        "\n",
        "In a period from $0$ to $2\\pi$, the function $\\sin(x)$ is positive in the intervals $(0, \\pi)$. Since the sine function has a period of $2\\pi$, this pattern repeats every $2\\pi$ units.\n",
        "\n",
        "So the domain of $\\ln(\\sin(x))$ is given by $(2n\\pi, (2n+1)\\pi)$ for every integer $n$. This includes intervals such as $(0, \\pi)$, $(2\\pi, 3\\pi)$, $(4\\pi, 5\\pi)$, and so on for positive $n$, as well as intervals like $(-2\\pi, -\\pi)$, $(-4\\pi, -3\\pi)$, and so on for negative $n$."
      ],
      "metadata": {
        "id": "nAyvGz38xkBh"
      }
    },
    {
      "cell_type": "markdown",
      "source": [
        "a - The union of all intervals of the form $(n\\pi, (n + 1)\\pi)$ for $n$ an odd integer. \\\\\n",
        "b - The union of all intervals of the form $[n\\pi, (n + 1)\\pi]$ for $n$ an odd integer. \\\\\n",
        "c - The union of all intervals of the form $(n\\pi, (n + 1)\\pi)$ for $n$ an even integer. \\\\\n",
        "d - The union of all intervals of the form $[n\\pi, (n + 1)\\pi]$ for $n$ an even integer."
      ],
      "metadata": {
        "id": "yQNzRfZ9ywIx"
      }
    },
    {
      "cell_type": "markdown",
      "source": [
        "To determine the domain of the function $\\ln \\sin(x)$, we first need to figure out where $\\sin(x) > 0$ (because we can't take the logarithm of zero or a negative number).\n",
        "\n",
        "The $\\sin(x)$ function is positive in the first and second quadrants, corresponding to the intervals $(0,\\pi)$, $(2\\pi,3\\pi)$, etc. In general, these intervals can be represented as $(n\\pi, (n+1)\\pi)$ where $n$ is an even integer.\n",
        "\n",
        "So the correct answer is:\n",
        "\n",
        "c - The union of all intervals of the form $(n\\pi, (n + 1)\\pi)$ for $n$ an even integer."
      ],
      "metadata": {
        "id": "7tNMvl6H0PMp"
      }
    },
    {
      "cell_type": "markdown",
      "source": [
        "## 2. Let $f(x) = \\frac{1}{x + 2}$. Determine $f \\circ f$.\n",
        "\n",
        "a. $\\frac{2}{x + 2}$\n",
        "\n",
        "b. $\\frac{1}{(x + 2)^2}$\n",
        "\n",
        "c. $\\frac{2x + 5}{x + 2}$\n",
        "\n",
        "d. $\\frac{x + 2}{2x + 5}$\n",
        "\n",
        "e. $= 1$\n",
        "\n",
        "f. $= x + 2$"
      ],
      "metadata": {
        "id": "yDkGT6dM0qQC"
      }
    },
    {
      "cell_type": "markdown",
      "source": [
        "\n",
        "To find $f \\circ f(x)$, or $f(f(x))$, we substitute $f(x)$ into the function $f(x)$.\n",
        "\n",
        "The original function is $f(x) = \\frac{1}{x+2}$. So to find $f(f(x))$, we substitute $f(x)$ into $x$ in the original function, as follows:\n",
        "\n",
        "$f(f(x)) = f(\\frac{1}{x+2}) = \\frac{1}{\\frac{1}{x+2}+2} = \\frac{1}{\\frac{x+4}{x+2}}$\n",
        "\n",
        "$\\frac{1}{x+2} + 2 = \\frac{1}{x+2} + \\frac{2(x+2)}{x+2} = \\frac{1 + 2(x + 2)}{x + 2} = \\frac{1 + 2x + 4}{x + 2} = \\frac{2x + 5}{x + 2}$\n",
        "\n",
        "Therefore: $f(f(x)) = \\frac{1}{\\frac{2x + 5}{x + 2}} = \\frac{x + 2}{2x + 5}$"
      ],
      "metadata": {
        "id": "Zw43IXNv2TkM"
      }
    },
    {
      "cell_type": "markdown",
      "source": [
        "## 3. Which of the following is the inverse function of $f(x) = sin(x^2)$ on some appropriate domain?\n",
        "\n",
        "a. $f^{-1}(x) = \\frac{1}{2} \\arcsin(x)$\n",
        "\n",
        "b. $f^{-1}(x) = \\arcsin \\frac{x}{2}$\n",
        "\n",
        "c. $f^{-1}(x) = \\frac{1}{sin(x)^2}$\n",
        "\n",
        "d. $f^{-1}(x) = \\sqrt{\\csc(x)}$\n",
        "\n",
        "e. $f^{-1}(x) = \\sqrt{\\arcsin(x)}$\n",
        "\n",
        "f. $f^{-1}(x) = \\arcsin \\sqrt{x}$"
      ],
      "metadata": {
        "id": "x3vickIY7y-a"
      }
    },
    {
      "cell_type": "markdown",
      "source": [
        "$\\sin(a) = b\\;\\; \\Rightarrow \\;\\;a = \\arcsin(b)$\n",
        "\n",
        "$f(x) = sin(x^2)$ \\\\\n",
        "\n",
        "$x^2 = \\arcsin(y) \\;\\;\\Rightarrow\\;\\; y = \\sqrt{\\arcsin(x)}$ and $y = -\\sqrt{\\arcsin(x)}$\n",
        "\n",
        "So the correct answer is:\n",
        "\n",
        "e. $f^{-1}(x) = \\sqrt{\\arcsin(x)}$\n",
        "\n"
      ],
      "metadata": {
        "id": "U5pcEDqO_zi-"
      }
    },
    {
      "cell_type": "markdown",
      "source": [
        "## 4. Which of the following is the inverse of the function: $f(x) = \\arctan (\\ln3x)$ on some appropriate domain?\n",
        "\n",
        "a. $f^{-1}(x) = \\tan(\\frac{1}{3}e^x)$\n",
        "\n",
        "b. $f^{-1}(x) = \\frac{1}{3}\\tan(e^x)$\n",
        "\n",
        "c. $f^{-1}(x) = e^{\\frac{\\tan(x)}{3}}$\n",
        "\n",
        "d. $f^{-1}(x) = \\frac{1}{3}e^{\\tan(x)}$\n",
        "\n",
        "e. $f^{-1}(x) = \\tan(e)^{\\frac{x}{3}}$\n",
        "\n",
        "f. $f^{-1}(x) = \\frac{1}{\\arctan(\\ln3x)}$"
      ],
      "metadata": {
        "id": "ieaA6DRNBMsn"
      }
    },
    {
      "cell_type": "markdown",
      "source": [
        "To find the inverse of the function\n",
        "$f(x)=arctan(ln(3x))$, we'll follow these steps:\n",
        "\n",
        "1. Replace $f(x)$ with $y$: $y=arctan(ln(3x))$.\n",
        "2. Swap $x$ and $y$: $x=arctan(ln(3y))$.\n",
        "3. Solve for $y$ to express the inverse function.\n",
        "\n",
        "Starting with $x=arctan(ln(3y))$, we'll follow these steps:\n",
        "\n",
        "1. Apply the tangent function to both sides: $tan(x)=ln(3y)$.\n",
        "2. Exponentiate both sides: $e^{tan(x)}=3y$.\n",
        "3. Divide by 3: $\\frac{1}{3}e^{tan x}=y$.\n",
        "\n",
        "So the inverse function is:\n",
        "\n",
        "d. $f^{-1}(x) = \\frac{1}{3}e^{\\tan(x)}$"
      ],
      "metadata": {
        "id": "u4Fp6merEF-z"
      }
    }
  ]
}