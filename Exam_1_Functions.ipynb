{
  "nbformat": 4,
  "nbformat_minor": 0,
  "metadata": {
    "colab": {
      "provenance": [],
      "toc_visible": true,
      "authorship_tag": "ABX9TyPRQZCRyLvmdMuevNMd8rA4",
      "include_colab_link": true
    },
    "kernelspec": {
      "name": "python3",
      "display_name": "Python 3"
    },
    "language_info": {
      "name": "python"
    }
  },
  "cells": [
    {
      "cell_type": "markdown",
      "metadata": {
        "id": "view-in-github",
        "colab_type": "text"
      },
      "source": [
        "<a href=\"https://colab.research.google.com/github/SpenBobCat/Calculus-1-Single_Variable/blob/main/Exam_1_Functions.ipynb\" target=\"_parent\"><img src=\"https://colab.research.google.com/assets/colab-badge.svg\" alt=\"Open In Colab\"/></a>"
      ]
    },
    {
      "cell_type": "markdown",
      "source": [
        "**Calculus: Single Variable**\n",
        "\n",
        "# Exam 1: Core Homework: Functions\n",
        "\n",
        "Coursera - University of Pennsylvania\n",
        "\n",
        "By:  Michael Spencer 8/2/2023"
      ],
      "metadata": {
        "id": "xxuSf5lE27bW"
      }
    },
    {
      "cell_type": "markdown",
      "source": [
        "## 1. $f(x) = 4x^3 +1$ and $g(x) = \\sqrt{x+3}$ compute $f\\circ g(x)$ and compute $g\\circ f(x)$"
      ],
      "metadata": {
        "id": "X260Wf8E3G4w"
      }
    },
    {
      "cell_type": "markdown",
      "source": [
        "1. $f\\circ g(x)$: To find $f(g(x))$, we substitute $g(x)$ into $f(x)$ wherever $x$ appears.\n",
        "\n",
        "- $f(g(x)) = 4(g(x))^3 + 1$\n",
        "- $= 4(\\sqrt{x+3})^3 + 1$\n",
        "- $= 4\\sqrt{x+3}\\;(x + 3) + 1$\n",
        "\n",
        "2. $g\\circ f(x)$: To find $g(f(x))$, we substitute $f(x)$ into $g(x)$ wherever $x$ appears.\n",
        "\n",
        "- $g(f(x)) = \\sqrt{f(x) + 3}$\n",
        "- $= \\sqrt{(4x^3 + 1) + 3}$\n",
        "- $= \\sqrt{4x^3 + 4}$\n",
        "- $= 2\\sqrt{x^3 + 1}$\n",
        "\n",
        "\n",
        "So $f\\circ g(x) = 4(x+3)\\sqrt{x+3} + 1$ and $g\\circ f(x) = \\sqrt{4x^3 + 4}$."
      ],
      "metadata": {
        "id": "rVo1uwms3OxO"
      }
    },
    {
      "cell_type": "markdown",
      "source": [
        "## 2. What is the inverse of the function $f(x) = e^{2x}$ Choose all that are correct.\n",
        "\n",
        "- Function inverse definition: A function $g$ is the inverse of function $f$ if for $y = f(x),\\;x = g(y)$ \\\\\n",
        "- replace $y$ with $x$ \\\\\n",
        "$y = e^{2x}$ $\\;\\;$therefore, $x = e^{2y}$ \\\\\n",
        "- Solve for $y$\n",
        "  - Apply Exponenet Rules: If $f(x) = g(x)$ $\\;$then$\\;$ $\\ln(f(x)) = \\ln(g(x))$  \n",
        "$\\ln(x) = \\ln(e^{2y})$ \\\\\n",
        "- Apply log rule: $\\log_a (x^b) = b \\cdot \\log_a (x)$ \\\\\n",
        "$\\ln(x) = 2y\\ln(e)$\n",
        "\n",
        "- Apply log rule: $\\log_a (a) = 1$, $\\;$ $\\ln(e) = 1$ \\\\\n",
        "$\\ln(x) = 2y$\n",
        "- Solve: $y = \\frac{\\ln(x)}{2}$\n",
        "\n",
        "Other possible solutions:\n",
        "\n",
        "- $\\frac{1}{2}\\ln(x)$\n",
        "\n",
        "- $\\ln(\\sqrt{x})$"
      ],
      "metadata": {
        "id": "XyzuJKmVQKDs"
      }
    },
    {
      "cell_type": "markdown",
      "source": [
        "## 3. What is the range of the function $\\arctan \\cos(x)$?\n",
        "\n",
        "Note: The inverse of the tangent function with the parameter $\\cos(x)$\n",
        "\n",
        "The range of the basic $\\cos$ function is:\n",
        "- $-1 \\le \\cos(x) \\le 1$\n",
        "\n",
        "Since $\\arctan$ is an increasing function: \\\\\n",
        "- $\\arctan(-1) \\le \\arctan(\\cos(x)) \\le \\arctan(1)$\n",
        "\n",
        "Simplify: \\\\\n",
        "- $-\\frac{\\pi}{4} \\le \\arctan(\\cos(x)) \\le \\frac{\\pi}{4}$"
      ],
      "metadata": {
        "id": "DaPbhCeuW9kd"
      }
    },
    {
      "cell_type": "markdown",
      "source": [
        "## 4. What is the range of the function: $\\ln(1 + x^2)$\n",
        "\n",
        "$y = \\ln(1 + x^2)$\n",
        "\n",
        "- Replace $x$ with $y$:\n",
        "\n",
        "$x = \\ln(1 + y^2)$\n",
        "\n",
        "-Solve for $y$:\n",
        "\n",
        "$y = \\sqrt{e^x - 1}$, $y = -\\sqrt{e^x - 1}$\n",
        "\n",
        "Therefore: $f(x) \\ge 0$ $\\;$ $[0, \\infty)$"
      ],
      "metadata": {
        "id": "eQtG07I0Z0tB"
      }
    },
    {
      "cell_type": "markdown",
      "source": [
        "## 5. What is the range of the function: $-x^2 + 1$\n",
        "\n",
        "- Parabola equation in polynomial form:\n",
        "$y = ax^2 + bx + c$ is $x_v = -\\frac{b}{2a}$\n",
        "\n",
        "- The parabola parameters are: $a = -1,$ $b = 0,$ $c = 1z$ \\\\\n",
        "\n",
        "$x_v  = -\\frac{b}{2a}$ \\\\\n",
        "$x_v = -\\frac{0}{2 \\cdot (-1)}$ \\\\\n",
        "$x_v = 0$\n",
        "\n",
        "Therefore: $y_v = -(0)^2 + 1 = 1$\n",
        "\n",
        "$f(x) \\le 1$\n",
        "\n",
        "**Solution:**\n",
        "\n",
        "$(-\\infty, 1]$\n"
      ],
      "metadata": {
        "id": "5AJoGONrdxT_"
      }
    },
    {
      "cell_type": "markdown",
      "source": [
        "## 6. What is the domain of the function: $\\arcsin(\\frac{x - 2}{3})$?\n",
        "\n",
        "- $\\arcsin(f(x)) \\Rightarrow -1 \\le f(x) \\le 1$ \\\\\n",
        "- Solve: $-1 \\le \\frac{x - 2}{3} \\le 1$:\n",
        "\n",
        "1. $-1 \\le \\frac{x - 2}{3} = x \\ge -1$\n",
        "\n",
        "2. $\\frac{x - 2}{3} \\le 1 = x \\le 5$\n",
        "\n",
        "- $-1 \\le x \\le 5$ or $[-1, 5]$"
      ],
      "metadata": {
        "id": "-pZBlb3piMtF"
      }
    },
    {
      "cell_type": "markdown",
      "source": [
        "## 7. Which of the following intervals are contained within the domain of the function: $\\frac{x - 3}{x^2 - 4}ln(x)$?\n",
        "\n",
        "- $(0, 2)$\n",
        "- $(2, \\infty)$"
      ],
      "metadata": {
        "id": "gvZ6CUTDneGe"
      }
    },
    {
      "cell_type": "markdown",
      "source": [
        "## 8. Which of the following intervals are contained within the domain of the function: $\\sqrt{2x - x^3}$?\n",
        "\n",
        "- $(-\\infty, -\\sqrt{2}]$\n",
        "\n",
        "- $[-\\sqrt{2}, 0]$\n",
        "\n",
        "- $[0, \\sqrt{2}]$\n",
        "\n"
      ],
      "metadata": {
        "id": "zPqNVVnvpZ2X"
      }
    }
  ]
}