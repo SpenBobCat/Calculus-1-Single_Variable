{
  "nbformat": 4,
  "nbformat_minor": 0,
  "metadata": {
    "colab": {
      "provenance": [],
      "authorship_tag": "ABX9TyMEwq4ogB0dSnqECC2d+oYC",
      "include_colab_link": true
    },
    "kernelspec": {
      "name": "python3",
      "display_name": "Python 3"
    },
    "language_info": {
      "name": "python"
    }
  },
  "cells": [
    {
      "cell_type": "markdown",
      "metadata": {
        "id": "view-in-github",
        "colab_type": "text"
      },
      "source": [
        "<a href=\"https://colab.research.google.com/github/SpenBobCat/Calculus-1-Single_Variable/blob/main/Exam_3_Challenge_Homework_Taylor_Series.ipynb\" target=\"_parent\"><img src=\"https://colab.research.google.com/assets/colab-badge.svg\" alt=\"Open In Colab\"/></a>"
      ]
    },
    {
      "cell_type": "markdown",
      "source": [
        "**Calculus: Single Variable**\n",
        "\n",
        "# Exam 3: Challenge Homework: Taylor Series\n",
        "\n",
        "Coursera - University of Pennsylvania\n",
        "\n",
        "By:  Michael Spencer 8/6/2023"
      ],
      "metadata": {
        "id": "Hb4pyXnn8UQ2"
      }
    },
    {
      "cell_type": "markdown",
      "source": [
        "## 1. The Taylor series about $x=0$ of the arctangent function is:\n",
        "\n",
        "$\\arctan(x) = x - \\frac{x^3}{3} + \\frac{x^5}{5} - \\frac{x^7}{7} + ... = \\sum_{k=0}^{\\infty}(-1)^{k}\\frac{x^{2k+1}}{2k+1}$\n",
        "\n",
        "Given this, what is the 11th derivative of $\\arctan(x)$ at $x=0$?\n",
        "\n",
        "Hint: Think in terms of the definition of a Taylor series. The coefficient of the degree 11 term of $\\arctan$ is $-\\frac{1}{11}$; therefore...\n",
        "\n",
        "a. $-23!$\n",
        "\n",
        "b. $-10$\n",
        "\n",
        "c. $-11!$\n",
        "\n",
        "d. $-10!$\n",
        "\n",
        "e. $-11$\n",
        "\n",
        "f. $-23$\n"
      ],
      "metadata": {
        "id": "d04oWxru85jY"
      }
    },
    {
      "cell_type": "markdown",
      "source": [
        "The 11th derivative of $\\arctan(x)$ at $x=0$ can be obtained by evaluating the coefficient of the $x^{11}$ term in the Taylor series expansion of $\\arctan(x)$:\n",
        "\n",
        "$\\arctan(x) = x - \\frac{x^3}{3} + \\frac{x^5}{5} - \\frac{x^7}{7} + ... = \\sum_{k=0}^{\\infty}(-1)^{k}\\frac{x^{2k+1}}{2k+1}$\n",
        "\n",
        "To find the coefficient of the $x^{11}$ term, we need to find the value of the term when $k=5$ (since the term has $2k+1=11$).\n",
        "\n",
        "For $k=5$, the term is:\n",
        "\n",
        "$(-1)^5 \\frac{x^{2(5)+1}}{2(5)+1} = -\\frac{x^{11}}{11}$\n",
        "\n",
        "The coefficient of the $x^{11}$ term is $-\\frac{1}{11}$. Therefore, the 11th derivative of $\\arctan(x)$ at $x=0$ is:\n",
        "\n",
        "$-\\frac{d^{11}}{dx^{11}} \\arctan(x) \\bigg|_{x=0} = -\\frac{1}{11} \\cdot 11! = -10!$\n",
        "\n",
        "So, the correct answer is option d:\n",
        "\n",
        "d. $-10!$"
      ],
      "metadata": {
        "id": "8eWcvQS8_BFV"
      }
    },
    {
      "cell_type": "markdown",
      "source": [
        "## 2. Adding together an infinite number of terms can be quite dangerous. But sometimes, its intuitive. Compute, by drawing a picture if you like, the sum:\n",
        "\n",
        "$1 + \\frac{1}{2} + \\frac{1}{4} + \\frac{1}{8} + \\frac{1}{16} + ...$\n",
        "\n",
        "a. $\\infty$\n",
        "\n",
        "b. $2$\n",
        "\n",
        "c. $e$\n",
        "\n",
        "d. $1$\n",
        "\n",
        "e. $\\pi$\n",
        "\n",
        "f. $4$\n",
        "\n"
      ],
      "metadata": {
        "id": "kfYmcAq5_jln"
      }
    },
    {
      "cell_type": "markdown",
      "source": [
        "The given series is a geometric series with a common ratio of $\\frac{1}{2}$. To find the sum of this infinite series, we can use the formula for the sum of an infinite geometric series:\n",
        "\n",
        "For a geometric series with the first term $a$ and common ratio $r$ where $|r|<1$, the sum is given by:\n",
        "\n",
        "Sum $= \\frac{a}{1 - r}$\n",
        "\n",
        "In this case, the first term is $a = 1$ and the common ratio is $r = \\frac{1}{2}$. Since $\\left|\\frac{1}{2}\\right| < 1$, we can apply the formula:\n",
        "\n",
        "Sum $= \\frac{1}{1 - \\frac{1}{2}} = \\frac{1}{\\frac{1}{2}} = 2$\n",
        "\n",
        "So, the sum of the infinite series:\n",
        "\n",
        "$1 + \\frac{1}{2} + \\frac{1}{4} + \\frac{1}{8} + \\frac{1}{16} + ... = 2$\n",
        "\n",
        "The correct answer is option b:\n",
        "\n",
        "b. $2$"
      ],
      "metadata": {
        "id": "rHubJ9U-AkKD"
      }
    },
    {
      "cell_type": "markdown",
      "source": [
        "## 3. Find the value of $a$ for which:  $\\sum_{n=0}^{\\infty}e^{na} = 2$\n",
        "\n",
        "a. $a = \\ln \\frac{e+2}{e}$\n",
        "\n",
        "b. $a = 2(1-e)$\n",
        "\n",
        "c. $a=0$\n",
        "\n",
        "d. $a = -\\ln2$\n",
        "\n",
        "e. $a = \\ln \\frac{2-e}{e}$\n",
        "\n",
        "f. $a = \\ln \\frac{3}{2}$"
      ],
      "metadata": {
        "id": "E-0bxUmNBGFI"
      }
    },
    {
      "cell_type": "markdown",
      "source": [
        "To find the value of $a$ that satisfies the equation $\\sum_{n=0}^{\\infty} e^{na} = 2$, we can use the formula for the sum of an infinite geometric series:\n",
        "\n",
        "Sum $= \\frac{\\text{first term}}{1 - \\text{common ratio}}$\n",
        "\n",
        "In this case, the series is $e^{na}$, and the common ratio is $e^a$ (ratio of consecutive terms). The first term, when $n=0$, is $e^{0a} = 1$.\n",
        "\n",
        "So, we have:\n",
        "\n",
        "Sum $= \\frac{1}{1 - e^a}$\n",
        "\n",
        "We want the sum to be equal to $2$, so:\n",
        "\n",
        "$\\frac{1}{1 - e^a} = 2$\n",
        "\n",
        "Now, let's solve for $a$:\n",
        "\n",
        "$1 - e^a = \\frac{1}{2}$\n",
        "\n",
        "$e^a = 1 - \\frac{1}{2} = \\frac{1}{2}$\n",
        "\n",
        "Taking the natural logarithm of both sides:\n",
        "\n",
        "$a = \\ln \\frac{1}{2} = -\\ln 2$\n",
        "\n",
        "Therefore, the correct answer is option d:\n",
        "\n",
        "d. $a = -\\ln 2$"
      ],
      "metadata": {
        "id": "C89wvaseCHnK"
      }
    }
  ]
}