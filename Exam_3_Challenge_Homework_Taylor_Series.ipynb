{
  "nbformat": 4,
  "nbformat_minor": 0,
  "metadata": {
    "colab": {
      "provenance": [],
      "toc_visible": true,
      "authorship_tag": "ABX9TyO4x2f7iOcNssT0JlLwVEso",
      "include_colab_link": true
    },
    "kernelspec": {
      "name": "python3",
      "display_name": "Python 3"
    },
    "language_info": {
      "name": "python"
    }
  },
  "cells": [
    {
      "cell_type": "markdown",
      "metadata": {
        "id": "view-in-github",
        "colab_type": "text"
      },
      "source": [
        "<a href=\"https://colab.research.google.com/github/SpenBobCat/Calculus-1-Single_Variable/blob/main/Exam_3_Challenge_Homework_Taylor_Series.ipynb\" target=\"_parent\"><img src=\"https://colab.research.google.com/assets/colab-badge.svg\" alt=\"Open In Colab\"/></a>"
      ]
    },
    {
      "cell_type": "markdown",
      "source": [
        "**Calculus: Single Variable**\n",
        "\n",
        "# Exam 3: Challenge Homework: Taylor Series\n",
        "\n",
        "Coursera - University of Pennsylvania\n",
        "\n",
        "By:  Michael Spencer 8/6/2023"
      ],
      "metadata": {
        "id": "Hb4pyXnn8UQ2"
      }
    }
  ]
}