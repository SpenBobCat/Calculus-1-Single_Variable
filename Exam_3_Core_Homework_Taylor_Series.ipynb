{
  "nbformat": 4,
  "nbformat_minor": 0,
  "metadata": {
    "colab": {
      "provenance": [],
      "toc_visible": true,
      "authorship_tag": "ABX9TyPJJ6Wf6JvWuT7CBuw1BMCB",
      "include_colab_link": true
    },
    "kernelspec": {
      "name": "python3",
      "display_name": "Python 3"
    },
    "language_info": {
      "name": "python"
    }
  },
  "cells": [
    {
      "cell_type": "markdown",
      "metadata": {
        "id": "view-in-github",
        "colab_type": "text"
      },
      "source": [
        "<a href=\"https://colab.research.google.com/github/SpenBobCat/Calculus-1-Single_Variable/blob/main/Exam_3_Core_Homework_Taylor_Series.ipynb\" target=\"_parent\"><img src=\"https://colab.research.google.com/assets/colab-badge.svg\" alt=\"Open In Colab\"/></a>"
      ]
    },
    {
      "cell_type": "markdown",
      "source": [
        "**Calculus: Single Variable**\n",
        "\n",
        "# Exam 3: Core Homework: Taylor Series\n",
        "\n",
        "Coursera - University of Pennsylvania\n",
        "\n",
        "By:  Michael Spencer 8/6/2023"
      ],
      "metadata": {
        "id": "JBSck_IJCfMu"
      }
    },
    {
      "cell_type": "markdown",
      "source": [
        "## 1. What is the derivative of the Bessel function $J_0(x)$ at $x = 0$?\n",
        "\n",
        "$J_{0}(x) = \\sum_{k=0}^{\\infty}(-1)^{k}\\frac{x^{2k}}{2^{2k}(k!)^2}$\n",
        "\n",
        "Remember that $J_0(x)$ is defined through its Taylor series about $x=0$.\n",
        "\n",
        "\n",
        "a. $-\\frac{1}{4}$\n",
        "\n",
        "b. $\\frac{1}{2}$\n",
        "\n",
        "c. $-\\frac{1}{2}$\n",
        "\n",
        "d. $1$\n",
        "\n",
        "e. $\\frac{1}{4}$\n",
        "\n",
        "f. $0$"
      ],
      "metadata": {
        "id": "gP3V8vyNCqrV"
      }
    },
    {
      "cell_type": "markdown",
      "source": [
        "\n",
        "To find the derivative of the Bessel function $J_0(x)$ at $x=0$, we differentiate the function term by term using the power rule.\n",
        "\n",
        "First, let's rewrite the Bessel function as a series:\n",
        "\n",
        "$J_0(x) = \\sum_{k=0}^{\\infty}(-1)^{k}\\frac{x^{2k}}{2^{2k}(k!)^2}$\n",
        "\n",
        "Now, let's find the derivative with respect to $x$:\n",
        "\n",
        "$\\frac{d}{dx} J_0(x) = \\frac{d}{dx} \\left(\\sum_{k=0}^{\\infty}(-1)^{k}\\frac{x^{2k}}{2^{2k}(k!)^2}\\right)$\n",
        "\n",
        "Using the power rule for differentiation:\n",
        "\n",
        "$= \\sum_{k=0}^{\\infty}(-1)^{k}\\frac{d}{dx}\\left(\\frac{x^{2k}}{2^{2k}(k!)^2}\\right)$\n",
        "\n",
        "$= \\sum_{k=0}^{\\infty}(-1)^{k}\\left(\\frac{d}{dx}\\frac{x^{2k}}{2^{2k}(k!)^2}\\right)$\n",
        "\n",
        "$= \\sum_{k=0}^{\\infty}(-1)^{k}\\left(\\frac{2kx^{2k-1}}{2^{2k}(k!)^2}\\right)$\n",
        "\n",
        "Now, let's evaluate this derivative at $x=0$:\n",
        "\n",
        "$\\frac{d}{dx} J_0(x)\\bigg|{x=0} = \\sum{k=0}^{\\infty}(-1)^{k}\\left(\\frac{2k\\cdot 0^{2k-1}}{2^{2k}(k!)^2}\\right) = 0$\n",
        "\n",
        "So, the derivative of the Bessel function $J_0(x)$ at $x=0$ is 0.\n",
        "\n",
        "Therefore, the correct answer is option f:\n",
        "\n",
        "f. $0$"
      ],
      "metadata": {
        "id": "cI3KDD3DVidG"
      }
    },
    {
      "cell_type": "markdown",
      "source": [
        "## 2. Compute the coefficient of the $x^3$ term in the Taylor series about $x=0$ of the function $e^{-2x}$.\n",
        "\n",
        "a. $\\frac{4}{3}$\n",
        "\n",
        "b. $-\\frac{4}{3}$\n",
        "\n",
        "c. $-\\frac{8}{3}$\n",
        "\n",
        "d. $2$\n",
        "\n",
        "e. $-\\frac{2}{3}$\n",
        "\n",
        "f. $-\\frac{1}{3}$\n",
        "\n",
        "g. $\\frac{2}{3}$\n"
      ],
      "metadata": {
        "id": "x7UeDNY4Vi4V"
      }
    },
    {
      "cell_type": "markdown",
      "source": [
        "To find the coefficient of the $x^3$ term in the Taylor series about $x=0$ of the function $e^{-2x}$, we can use the Taylor series expansion formula for $e^x$:\n",
        "\n",
        "$e^x = 1 + x + \\frac{x^2}{2!} + \\frac{x^3}{3!} + \\frac{x^4}{4!} + ...$\n",
        "\n",
        "Now, let's find the Taylor series expansion for $e^{-2x}$:\n",
        "\n",
        "$e^{-2x} = 1 + (-2x) + \\frac{(-2x)^2}{2!} + \\frac{(-2x)^3}{3!} + \\frac{(-2x)^4}{4!} + ...$\n",
        "\n",
        "$e^{-2x} = 1 - 2x + \\frac{4x^2}{2!} - \\frac{8x^3}{3!} + \\frac{16x^4}{4!} + ...$\n",
        "\n",
        "The coefficient of the $x^3$ term is $-\\frac{8}{3}$.\n",
        "\n",
        "Therefore, the correct answer is option c:\n",
        "\n",
        "$-\\frac{8x^3}{3!}$\n",
        "\n",
        "$= -\\frac{8}{3\\cdot2\\cdot1} = -\\frac{8}{6} = -\\frac{4}{3}$\n",
        "\n"
      ],
      "metadata": {
        "id": "k5KrrLTtWgKX"
      }
    },
    {
      "cell_type": "markdown",
      "source": [
        "## 3. Compute the Taylor series about $x=0$ of the polynomial $f(x) = x^4 + 4x^3 + x^2 +3x + 6$. Be sure to fully simplify.  What does this tell you about the Taylor series of a polynomial?\n",
        "\n",
        "a. The Taylor series of $f(x)$ is $x^4$: the Taylor series about $x=0$ of a polynomial is just the highest order term.\n",
        "\n",
        "b. A polynomial does not have a Taylor series.\n",
        "\n",
        "c. The Taylor series of $f(x)$ is $6 + 3x + x^2 + 4x^3 + x^4$: the Taylor series about $x=0$ of a polynomial is the polynomial itself.\n",
        "\n",
        "d. The Taylor series of $f(x)$ is $3 + 2x + 12x^2 + 4x^3$: the Taylor series about $x=0$ of a polynomial is its derivative.\n",
        "\n",
        "e. The Taylor series of $f(x)$ is $6x + \\frac{3x^2}{2} + \\frac{x^3}{3} + x^4 + \\frac{x^5}{5} + C$: the Taylor series about $x=0$ of a polynomial is its integral.\n",
        "\n",
        "f. The Taylor series of $f(x)$ is $6$: the Taylor series about $x=0$ of a polynomial is just the lowest order term."
      ],
      "metadata": {
        "id": "qIsTdsQEZRNM"
      }
    },
    {
      "cell_type": "markdown",
      "source": [
        "The Taylor series of a polynomial is simply the polynomial itself, and it remains unchanged when expanded about $x=0$. Therefore, the correct answer is option c:\n",
        "\n",
        "c. The Taylor series of $f(x)$ is $6 + 3x + x^2 + 4x^3 + x^4$: the Taylor series about $x=0$ of a polynomial is the polynomial itself.\n",
        "\n",
        "For the given polynomial $f(x) = x^4 + 4x^3 + x^2 + 3x + 6$, its Taylor series about $x=0$ is the polynomial itself, which is:\n",
        "\n",
        "$6 + 3x + x^2 + 4x^3 + x^4$\n",
        "\n",
        "This is consistent with the general property that the Taylor series of a polynomial remains unchanged and is equal to the polynomial itself."
      ],
      "metadata": {
        "id": "-W66j-M0fHHq"
      }
    },
    {
      "cell_type": "markdown",
      "source": [
        "## 4. Compute the first three terms of the Taylor series about $x = 0$ of $\\sqrt{1 + x}$\n",
        "\n",
        "a. $\\sqrt{1 + x} = 1 - \\frac{1}{2}x + \\frac{1}{8}x^2 + ...$\n",
        "\n",
        "b. $\\sqrt{1 + x} = 1 + \\frac{1}{2}x - \\frac{1}{4}x^2 + ...$\n",
        "\n",
        "c. $\\sqrt{1 + x} = 1 + 2x - 4x^2 + ...$\n",
        "\n",
        "d. $\\sqrt{1 + x} = 1 + x - \\frac{1}{4}x^2 + ...$\n",
        "\n",
        "e. $\\sqrt{1 + x} = 1 + 2x - 2x^2 + ...$\n",
        "\n",
        "f. $\\sqrt{1 + x} = 1 + \\frac{1}{2}x - \\frac{1}{8}x^2 + ...$"
      ],
      "metadata": {
        "id": "dkq02MPvfT6x"
      }
    },
    {
      "cell_type": "markdown",
      "source": [
        "To find the first three terms of the Taylor series about $x=0$ of $\\sqrt{1+x}$, we use the general formula for the Taylor series expansion of $\\sqrt{1+x}$:\n",
        "\n",
        "$\\sqrt{1+x} = f(0) + f'(0)x + \\frac{f''(0)}{2!}x^2 + ...$\n",
        "\n",
        "where $f(x) = \\sqrt{1+x}$.\n",
        "\n",
        "First, let's find the derivatives:\n",
        "\n",
        "$f(x) = (1+x)^{\\frac{1}{2}}$\n",
        "\n",
        "$f'(x) = \\frac{1}{2}(1+x)^{-\\frac{1}{2}}$\n",
        "\n",
        "$f''(x) = -\\frac{1}{4}(1+x)^{-\\frac{3}{2}}$\n",
        "\n",
        "Now, evaluate these derivatives at $x=0$:\n",
        "\n",
        "$f(0) = \\sqrt{1} = 1$\n",
        "\n",
        "$f'(0) = \\frac{1}{2}(1)^{-\\frac{1}{2}} = \\frac{1}{2}$\n",
        "\n",
        "$f''(0) = -\\frac{1}{4}(1)^{-\\frac{3}{2}} = -\\frac{1}{4}$\n",
        "\n",
        "Now, substitute these values back into the Taylor series expansion:\n",
        "\n",
        "$\\sqrt{1+x} = 1 + \\frac{1}{2}x - \\frac{1}{4}\\cdot\\frac{x^2}{2!} + ...$\n",
        "\n",
        "$\\sqrt{1+x} = 1 + \\frac{1}{2}x - \\frac{1}{8}x^2 + ...$\n",
        "\n",
        "The first three terms of the Taylor series about $x=0$ of $\\sqrt{1+x}$ are:\n",
        "\n",
        "$\\sqrt{1+x} = 1 + \\frac{1}{2}x - \\frac{1}{8}x^2 + ...$\n",
        "\n",
        "The correct answer is option f."
      ],
      "metadata": {
        "id": "LFJfKwh5ha8z"
      }
    },
    {
      "cell_type": "markdown",
      "source": [
        "## 5. Find the first four non-zero terms of the Taylor series about $x=0$ of the function $(x+2)^{-1}$\n",
        "\n",
        "$\\frac{1}{2}-\\frac{1}{4}x + \\frac{1}{8}x^2 - \\frac{1}{16}x^3 + \\frac{1}{32}x^4 + ...$"
      ],
      "metadata": {
        "id": "k00aOXqk0vW2"
      }
    },
    {
      "cell_type": "markdown",
      "source": [
        "## 6. Which of the following is the Tayloir series about $x = 0$ of $\\frac{1}{1-x}$?\n",
        "\n",
        "$= 1 + x + x^2 + x^3 + x^4 + ...$\n",
        "\n",
        "Series Sum Representation:  $\\sum_{n=0}^{\\infty}x^n$"
      ],
      "metadata": {
        "id": "B4rxH8dp-XrB"
      }
    }
  ]
}