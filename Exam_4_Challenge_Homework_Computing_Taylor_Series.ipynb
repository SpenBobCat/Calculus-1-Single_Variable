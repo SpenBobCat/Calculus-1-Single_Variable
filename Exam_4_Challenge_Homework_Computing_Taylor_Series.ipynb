{
  "nbformat": 4,
  "nbformat_minor": 0,
  "metadata": {
    "colab": {
      "provenance": [],
      "toc_visible": true
    },
    "kernelspec": {
      "name": "python3",
      "display_name": "Python 3"
    },
    "language_info": {
      "name": "python"
    }
  },
  "cells": [
    {
      "cell_type": "markdown",
      "source": [
        "**Calculus: Single Variable**\n",
        "\n",
        "# Exam 4: Challenge Homework: Computing Taylor Series\n",
        "\n",
        "Coursera - University of Pennsylvania\n",
        "\n",
        "By:  Michael Spencer 8/6/2023"
      ],
      "metadata": {
        "id": "FKHVEpvbdDsP"
      }
    }
  ]
}