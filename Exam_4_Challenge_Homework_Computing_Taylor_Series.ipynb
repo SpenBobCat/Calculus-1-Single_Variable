{
  "nbformat": 4,
  "nbformat_minor": 0,
  "metadata": {
    "colab": {
      "provenance": [],
      "toc_visible": true
    },
    "kernelspec": {
      "name": "python3",
      "display_name": "Python 3"
    },
    "language_info": {
      "name": "python"
    }
  },
  "cells": [
    {
      "cell_type": "markdown",
      "source": [
        "**Calculus: Single Variable**\n",
        "\n",
        "# Exam 4: Challenge Homework: Computing Taylor Series\n",
        "\n",
        "Coursera - University of Pennsylvania\n",
        "\n",
        "By:  Michael Spencer 8/6/2023"
      ],
      "metadata": {
        "id": "FKHVEpvbdDsP"
      }
    },
    {
      "cell_type": "markdown",
      "source": [
        "## 1. Suppose that a function $f(x)$ is reasonable, so that it has a Taylor series:\n",
        "\n",
        "$f(x) = c_0+c_1 x + c_2 x^2 + H.O.T.$ with $c_0 \\ne 0$.\n",
        "\n",
        "Then the reciprocal function $g(x) =\\frac{1}{f(x)}$ is defined at $x=0$ and is also reasonable. Let:\n",
        "\n",
        "$g(x) = b_0+b_1 x+b_2 x^2 + H.O.T.$\n",
        "\n",
        "be its Taylor series. Because of $f(x)g(x)=1$, we have:\n",
        "\n",
        "$(c_0+c_1 x + c_2 x^2 + H.O.T.)(b_0+b_1 x+b_2 x^2 + H.O.T.) = 1 + 0x + 0x^2 + H.O.T.$\n",
        "\n",
        "Equating the coefficients of each power of $x$ on both sides of this expression, we arrive at the (infinite) system of equations: \\\\\n",
        " \\\\\n",
        " \\\\\n",
        "$\\;\\;\\;\\;\\;\\;\\;\\;\\;\\;\\;\\;\\;\\;\\;\\;\\;\\;\\;\\;\\;\\;\\;\\;\\;\\;\\;\\;\\;c_0b_0=1$ \\\\\n",
        "$\\;\\;\\;\\;\\;\\;\\;\\;\\;\\;\\;\\;\\;\\;\\;\\;\\;\\;\\;\\;\\;\\;\\;c_0b_1 + c_1b_0=0$ \\\\\n",
        "$\\;\\;\\;\\;\\;\\;\\;\\;\\;\\;\\;\\;\\;\\;\\;\\;\\;c_0b_2+c_1b_1+c_2b_0=0$ \\\\\n",
        "$\\;\\;\\;\\;\\;\\;\\;\\;\\;\\;\\;\\;\\;\\;\\;\\;\\;\\;\\;\\;\\;\\;\\;\\;\\;\\;\\;\\;\\;\\;\\;\\;\\;...$\n",
        " \\\\\n",
        " \\\\\n",
        "relating the coefficients of the Taylor series of $f(x)$ to those of the Taylor series of $g(x)$. For example, the first equation yields:\n",
        "\n",
        "$\\;\\;\\;\\;\\;\\;\\;\\;\\;\\;\\;\\;\\;\\;\\;b_0 = \\frac{1}{c_0}$,\n",
        "\n",
        "while the second gives:\n",
        "\n",
        "$\\;\\;\\;\\;\\;\\;\\;\\;\\;\\;\\;\\;\\;\\;\\;b_1=-\\frac{c_1b_0}{c_0} = -\\frac{c_1}{c_0^2}$.\n",
        "\n",
        "Using the above reasoning for $f(x) = \\cos(x)$, determine the Taylor series of $g(x)=sec(x)$ up to terms of degree two.                                                                  \n",
        "\n",
        "a. $\\sec x=1+2x^2 +H.O.T.$\n",
        "\n",
        "b. $\\sec x=1-\\frac{x^2}{2}+H.O.T.$\n",
        "\n",
        "c. $\\sec x=1+\\frac{x^2}{2}+H.O.T.$\n",
        "\n",
        "d. $\\sec x=1-x^2+H.O.T$\n",
        "\n",
        "e. $\\sec x=1 - 2x^2+H.O.T.$\n",
        "\n",
        "f. $\\sec x=1+x^2+H.O.T.$"
      ],
      "metadata": {
        "id": "WrkXjWUKed9I"
      }
    },
    {
      "cell_type": "markdown",
      "source": [
        "To determine the Taylor series of $g(x) = \\sec(x)$ using the given reasoning, we need to find the coefficients $b_0$, $b_1$, and $b_2$. We already know that $b_0 = \\frac{1}{c_0}$ and $b_1 = -\\frac{c_1}{c_0^2}$ from the equations provided in the question.\n",
        "\n",
        "For $f(x) = \\cos(x)$, the Taylor series up to degree two is given as:\n",
        "\n",
        "$f(x) = c_0 + c_1 x + c_2 x^2 + H.O.T.$\n",
        "\n",
        "where $c_0 = 1$, $c_1 = 0$, and $c_2 = -\\frac{1}{2}$.\n",
        "\n",
        "Now, let's calculate the coefficients $b_0$, $b_1$, and $b_2$:\n",
        "\n",
        "$b_0 = \\frac{1}{c_0} = \\frac{1}{1} = 1$ (Already calculated)\n",
        "$b_1 = -\\frac{c_1}{c_0^2} = -\\frac{0}{1^2} = 0$ (Already calculated)\n",
        "$b_2 = -\\frac{c_2}{c_0^2} = -\\frac{-\\frac{1}{2}}{1^2} = -\\frac{1}{2}$\n",
        "Now, we can write the Taylor series of $g(x) = \\sec(x)$ up to terms of degree two:\n",
        "\n",
        "$g(x) = b_0 + b_1 x + b_2 x^2 + H.O.T. = 1 + 0x - \\frac{1}{2}x^2 + H.O.T.$\n",
        "\n",
        "So, the correct option is:\n",
        "\n",
        "c. $\\sec x=1+\\frac{x^2}{2}+H.O.T.$"
      ],
      "metadata": {
        "id": "Wao8am6cX0x0"
      }
    }
  ]
}