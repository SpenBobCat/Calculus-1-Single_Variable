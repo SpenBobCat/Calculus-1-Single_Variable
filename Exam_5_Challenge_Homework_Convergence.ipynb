{
  "nbformat": 4,
  "nbformat_minor": 0,
  "metadata": {
    "colab": {
      "provenance": [],
      "toc_visible": true
    },
    "kernelspec": {
      "name": "python3",
      "display_name": "Python 3"
    },
    "language_info": {
      "name": "python"
    }
  },
  "cells": [
    {
      "cell_type": "markdown",
      "source": [
        "**Calculus: Single Variable**\n",
        "\n",
        "# Exam 5: Challenge Homework: Convergence\n",
        "\n",
        "Coursera - University of Pennsylvania\n",
        "\n",
        "By:  Michael Spencer 8/8/2023"
      ],
      "metadata": {
        "id": "gsDTfs_Rky0J"
      }
    },
    {
      "cell_type": "markdown",
      "source": [
        "## 1. Compute the Taylor series expansion about $x=0$ of the function $f(x)=\\ln\\frac{1+2x}{1-2x}$. For what values of $x$ does the series converge?\n",
        "\n",
        "Hint: use the properties of the logarithm function to separate the quotient inside into two pieces.\n",
        "\n",
        "a. $f(x) = \\sum_{k=1}^{\\infty}\\frac{2^{2k}}{k}x^{2k}$ for $|x|<1$\n",
        "\n",
        "b. $f(x) = \\sum_{k=1}^{\\infty}\\frac{2^{2k+2}}{2k+1}x^{2k+1}$ for $|x|<\\frac{1}{2}$\n",
        "\n",
        "c. $f(x) = \\sum_{k=1}^{\\infty}\\frac{2^{2k}}{2k-1}x^{2k-1}$ for $|x|<\\frac{1}{2}$\n",
        "\n",
        "d. $f(x) = \\sum_{k=1}^{\\infty}\\frac{2^{2k}}{k}x^{2k}$ for $|x|<\\frac{1}{2}$\n",
        "\n",
        "e. $f(x) = \\sum_{k=1}^{\\infty}\\frac{2^{2k}}{2k-1}x^{2k-1}$ for $|x|<1$\n",
        "\n",
        "f. $f(x) = \\sum_{k=1}^{\\infty}\\frac{2^{2k+2}}{2k+1}x^{2k+1}$ for $|x|<1$\n"
      ],
      "metadata": {
        "id": "iOmRu0F-spaZ"
      }
    },
    {
      "cell_type": "markdown",
      "source": [
        "Wrong Answer:\n",
        "\n",
        "d. $f(x) = \\sum_{k=1}^{\\infty}\\frac{2^{2k}}{k}x^{2k}$ for $|x|<\\frac{1}{2}$\n",
        "\n",
        "Correct Answer:\n",
        "\n",
        "c. $f(x) = \\sum_{k=1}^{\\infty}\\frac{2^{2k}}{2k-1}x^{2k-1}$ for $|x|<\\frac{1}{2}$"
      ],
      "metadata": {
        "id": "shLC6lJ8zRG4"
      }
    },
    {
      "cell_type": "markdown",
      "source": [
        "## 2. We have derived Taylor series expansions about $x=0$ for the $\\sin$ and $\\arctan$ functions. The first one converges over the whole real line, but the second one does so only when its input is smaller than 1 in absolute value. If you try using these to find the Taylor series of:  \n",
        "\n",
        "$\\arctan(\\frac{1}{2}\\sin x)$\n",
        "\n",
        "where would the resulting series converge to the function?\n",
        "\n",
        "Warning: There is a fundamental mistake in this problem, whose understanding requires some complex analysis.\n",
        "\n",
        "\n",
        "a. $|x|<\\frac{1}{2}$\n",
        "\n",
        "b. $|x|<2$\n",
        "\n",
        "c. $\\mathbb{R} = (-\\infty, \\infty)$\n",
        "\n",
        "d. $|x|<1$"
      ],
      "metadata": {
        "id": "o-X88jSizSFf"
      }
    },
    {
      "cell_type": "markdown",
      "source": [
        "The problem is that when we compose these two functions to get the Taylor series for\n",
        "$\\arctan(\\frac{1}{2}\\sin(x))$, even though $\\sin(x)$ converges everywhere on the real line, the series for $\\arctan(x)$ only converges when $∣x∣<1$.\n",
        "\n",
        "So, even though $\\frac{1}{2}\\sin(x)$ is bounded by $\\frac{1}{2}$, that doesn't immediately mean our composed function's Taylor series converges for all $x$.\n",
        "\n",
        "The crux of the problem lies in the behavior of the function as it goes into the complex plane. The issue is that the function $\\arctan(z)$ where $z$ is a complex number) has singularities in the complex plane, and the function $\\frac{1}{2}sin(x)$ can approach these singularities as we venture off the real axis.\n",
        "\n",
        "Using some principles from complex analysis, the largest circle (in the complex plane) centered at 0 that does not contain any singularities of $\\arctan(z)$ has a radius of 1. The singularity arises when $\\frac{1}{2}sin(x)$r -1, and this happens at values of $x$ that are further away from 0 than $\\frac{\\pi}{2}$\n",
        "\n",
        "So the Taylor series of $\\arctan(\\frac{1}{2}\\sin(x))$ converges to the function when $∣x∣<2$\n",
        "\n",
        "However the correct answer is:\n",
        "\n",
        "c. $\\mathbb{R} = (-\\infty, \\infty)$"
      ],
      "metadata": {
        "id": "t-TGdAZY2qcX"
      }
    }
  ]
}