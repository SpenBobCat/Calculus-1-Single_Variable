{
  "nbformat": 4,
  "nbformat_minor": 0,
  "metadata": {
    "colab": {
      "provenance": [],
      "toc_visible": true
    },
    "kernelspec": {
      "name": "python3",
      "display_name": "Python 3"
    },
    "language_info": {
      "name": "python"
    }
  },
  "cells": [
    {
      "cell_type": "markdown",
      "source": [
        "**Calculus: Single Variable**\n",
        "\n",
        "# Exam 5: Core Homework: Convergence\n",
        "\n",
        "Coursera - University of Pennsylvania\n",
        "\n",
        "By:  Michael Spencer 8/7/2023"
      ],
      "metadata": {
        "id": "ssicWHwVCvpV"
      }
    },
    {
      "cell_type": "markdown",
      "source": [
        "## 1. Use geometric series to compute the Taylor series for: $f(x) = \\frac{1}{2-x}$.\n",
        "\n",
        "Where does this converge?  Hint: $\\frac{1}{2-x}=\\frac{1}{2}\\frac{1}{1-\\frac{x}{2}}$\n",
        "\n",
        "a. $f(x)=\\frac{1}{2}\\sum_{k=0}^{\\infty}x^k$. This series converges for $|x|<2$. \\\\\n",
        "\n",
        "b. $f(x)=\\frac{1}{2}\\sum_{k=0}^{\\infty}x^k$. This series converges for $|x|<1$ \\\\\n",
        "\n",
        "c. $f(x)=\\sum_{k=0}^{\\infty}\\frac{x^k}{2^{k+1}}$. This series converges for $|x|<\\frac{1}{2}$ \\\\\n",
        "\n",
        "d. $f(x)=\\frac{1}{2}\\sum_{k=0}^{\\infty}x^k$. This series converges for $|x|<\\frac{1}{2}$ \\\\\n",
        "\n",
        "e. $f(x)=\\sum_{k=0}^{\\infty}\\frac{x^k}{2^{k}}$. This series converges for $|x|<2$ \\\\\n",
        "\n",
        "f. $f(x)=\\sum_{k=0}^{\\infty}\\frac{x^k}{2^{k+1}}$. This series converges for $|x|<2$"
      ],
      "metadata": {
        "id": "edZBwe0lDD32"
      }
    },
    {
      "cell_type": "markdown",
      "source": [
        "Geometric series formula: $\\frac{1}{1-r}=\\sum_{k=0}^{\\infty}r^k$\n",
        "\n",
        "$f(x)=\\frac{1}{2}\\sum_{k=0}^{\\infty}(\\frac{x}{2})^k$\n",
        "\n",
        "Solution: e. $f(x)=\\sum_{k=0}^{\\infty}\\frac{x^k}{2^{k}}$. This series converges for $|x|<2$"
      ],
      "metadata": {
        "id": "amcZcgpBGobj"
      }
    },
    {
      "cell_type": "markdown",
      "source": [
        "## 2. Compute and simplify the full Taylor series about $x=0$ of the function $f(x)=\\frac{1}{2-x}+\\frac{1}{2-3x}$.\n",
        "\n",
        "Where does this converge?\n",
        "\n",
        "a. $f(x)=\\sum_{k=0}^{\\infty}\\frac{1+3^k}{2^{k+1}}x^k$. This series converges for $|x|<\\frac{2}{3}$. \\\\\n",
        "\n",
        "b. $f(x)=\\sum_{k=0}^{\\infty}\\frac{1+3^k}{2^{k+1}}x^k$. This series converges for $|x|<1$. \\\\\n",
        "\n",
        "c. $f(x)=\\sum_{k=0}^{\\infty}\\frac{1+3^k}{2^{k+1}}x^k$. This series converges for $|x|<\\frac{3}{2}$. \\\\\n",
        "\n",
        "d. $f(x)=\\sum_{k=0}^{\\infty}(-1)^{k}\\frac{1+3^k}{2^{k+1}}x^k$. This series converges for $|x|<\\frac{2}{3}$ \\\\\n",
        "\n",
        "e. $f(x)=\\sum_{k=0}^{\\infty}(-1)^{k}\\frac{1+3^k}{2^{k+1}}x^k$. This series converges for $|x|<\\frac{3}{2}$. \\\\\n",
        "\n",
        "f. $f(x)=\\sum_{k=0}^{\\infty}(-1)^{k}\\frac{1+3^k}{2^{k+1}}x^k$. This series converges for $|x|<1$."
      ],
      "metadata": {
        "id": "mmt5LUJuHjzU"
      }
    },
    {
      "cell_type": "markdown",
      "source": [
        "$f(x)=\\sum_{k=0}^{\\infty}\\frac{(-1)^{k}(2k!+(3k)!\\cdot3^k)}{2^{k+1}}x^{k}$\n",
        "\n",
        "\n",
        "This series converges for $|x|<\\frac{2}{3}$. So the correct option is:\n",
        "\n",
        "d. $f(x)=\\sum_{k=0}^{\\infty}(-1)^{k}\\frac{1+3^k}{2^{k+1}}x^k$. This series converges for $|x|<\\frac{2}{3}$."
      ],
      "metadata": {
        "id": "X0B4g47hJLuy"
      }
    },
    {
      "cell_type": "markdown",
      "source": [
        "## 3. Which of the following is the Taylor series of $\\ln\\frac{1}{1-x}$ about $x=0$ up to and including the terms of order three."
      ],
      "metadata": {
        "id": "NT9NkbiqJLmx"
      }
    },
    {
      "cell_type": "markdown",
      "source": [
        "## 4. Use the binomial series to find the Taylor series about $x=0$ of the function $f(x)=(9-x^2)^{-\\frac{1}{2}}$\n",
        "\n",
        "Indicate for which values of $x$ the seires converges to the function.\n",
        "\n",
        "a. $f(x)=\\sum_{k=0}^{\\infty}(-1)^{k}\\dbinom{-1/2}{k}\\frac{x^{2k}}{3^{2k-1}}$ for $|x|<3$ \\\\\n",
        "\n",
        "b. $f(x)=\\sum_{k=0}^{\\infty}\\dbinom{-1/2}{k}\\frac{x^{2k}}{3^{2k}}$ for $|x|<3$ \\\\\n",
        "\n",
        "c. $f(x)=\\sum_{k=0}^{\\infty}(-1)^{k}\\dbinom{-1/2}{k}\\frac{x^{2k}}{3^{2k+1}}$ for $|x|<3$. \\\\\n",
        "\n",
        "d. $f(x)=\\sum_{k=0}^{\\infty}(-1)^{k}\\dbinom{-1/2}{k}\\frac{x^{2k}}{3^{2k+1}}$ for $|x|<\\frac{1}{3}$ \\\\\n",
        "\n",
        "e. $f(x)=\\sum_{k=0}^{\\infty}\\dbinom{-1/2}{k}\\frac{x^{2k}}{3^{2k}}$ for $|x|<\\frac{1}{3}$ \\\\\n",
        "\n",
        "f. $f(x)=\\sum_{k=0}^{\\infty}(-1)^{k}\\dbinom{-1/2}{k}\\frac{x^{2k}}{3^{2k-1}}$ for $|x|<\\frac{1}{3}$."
      ],
      "metadata": {
        "id": "vmcRpcVCMFQR"
      }
    },
    {
      "cell_type": "markdown",
      "source": [
        "e. $f(x) = \\sum_{k=0}^{\\infty} \\dbinom{-1/2}{k}\\frac{x^{2k}}{3^{2k}}$ for $|x|<\\frac{1}{3}$.\n",
        "\n",
        "a. $f(x) = \\sum_{k=0}^{\\infty} (-1)^k \\binom{-1/2}{k} \\frac{x^{2k}}{3^{2k-1}}$ for $|x|<3$.\n",
        "\n",
        "where $(2k-1)!!$ denotes the double factorial of $(2k-1)$.\n",
        "\n",
        "Now, let's compare this expression with the given options to determine which one is correct and the convergence interval.\n",
        "\n",
        "The correct option is:\n",
        "\n",
        "b. $f(x) = \\sum_{k=0}^{\\infty} \\binom{-\\frac{1}{2}}{k} \\frac{x^{2k}}{3^{2k}}$ for $|x|<3$\n",
        "\n",
        "The binomial coefficient is given by $\\binom{-\\frac{1}{2}}{k} = \\frac{(-1)^k (2k-1)!!}{2^k k!}$, and the series involves $x^{2k}$ terms and $3^{2k}$ terms. Therefore, the correct option is b.\n",
        "\n",
        "Now, let's determine the convergence interval. The binomial series is valid when $|x| < 1$, and in our case, we have an additional factor of $3^{2k}$, so we need to ensure that $|x| < 3$ for the series to converge.\n",
        "\n",
        "Therefore, the correct answer is:\n",
        "\n",
        "b. $f(x) = \\sum_{k=0}^{\\infty} \\binom{-\\frac{1}{2}}{k} \\frac{x^{2k}}{3^{2k}}$ for $|x|<3$"
      ],
      "metadata": {
        "id": "eudt5vvMSX5p"
      }
    },
    {
      "cell_type": "markdown",
      "source": [
        "## 5. Use the binomial series to find the Taylor series about $x=0$ of $\\arcsin(x)=\\int\\frac{dx}{\\sqrt{1-x^2}}$ up to terms of order five.\n",
        "\n"
      ],
      "metadata": {
        "id": "1-e-Ufc2bu1c"
      }
    },
    {
      "cell_type": "markdown",
      "source": [
        "## 7. In this problem we want to derive a formula for summing the first $n+1$ terms of the series. That is we want to calculate:  $s_n=1+x+x^2 +...+x^n$.\n",
        "\n",
        "The strategy is exactly that of the algebraic proof given for the sum of the full geometric series: compute the difference $s_n - xs_n$ and then isolate $s_n$. What formula do you get?\n",
        "\n",
        "a. $s_n=\\frac{1-x^n}{1-x}$\n",
        "\n",
        "b. $s_n=\\frac{1+x^{n+1}}{1-x}$\n",
        "\n",
        "c. $s_n=\\frac{1-nx}{1-x}$\n",
        "\n",
        "d. $s_n=\\frac{1+nx}{1-x}$\n",
        "\n",
        "e. $s_n=\\frac{1+x^n}{1-x}$\n",
        "\n",
        "f. $s_n=\\frac{1-x^{n+1}}{1-x}$"
      ],
      "metadata": {
        "id": "vIVNGoODdGyV"
      }
    },
    {
      "cell_type": "markdown",
      "source": [
        "To derive the formula for the sum of the series $s_n = 1 + x + x^2 + \\ldots + x^n$, we can use the strategy mentioned in the problem. We compute the difference $s_n - xs_n$ and then isolate $s_n$.\n",
        "\n",
        "$s_n−xs_n=(1+x+x^2+…+x^n)−x(1+x+x^2+…+x^n)$\n",
        "\n",
        "Factor out the common terms:\n",
        "\n",
        "$s_n−xs_n=(1−x)(1+x+x^2+…+x^n)$\n",
        "\n",
        "Now, we can simplify the sum on the right-hand side. The sum $1 + x + x^2 + \\ldots + x^n$ is a geometric series with the first term $a = 1$ and the common ratio $r = x$. The sum of a geometric series with $n+1$ terms is given by:\n",
        "\n",
        "Sum of geometric series = $\\frac{a(1-r^{n+1})}{1-r}$\n",
        "\n",
        "Substitute $a = 1$ and $r = x$ into the formula:\n",
        "\n",
        "$= \\frac{1-x^{n+1}}{1-x}$\n",
        "\n",
        "Now, isolate $s_n$ by dividing both sides by $(1 - x)$:\n",
        "\n",
        "$s_n = \\frac{1 - x^{n+1}}{1 - x}$\n",
        "\n",
        "The correct formula for the sum of the series is:\n",
        "\n",
        "f. $s_n = \\frac{1 - x^{n+1}}{1 - x}$"
      ],
      "metadata": {
        "id": "9HLrK9Olel2c"
      }
    }
  ]
}