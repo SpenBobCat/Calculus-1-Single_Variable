{
  "nbformat": 4,
  "nbformat_minor": 0,
  "metadata": {
    "colab": {
      "provenance": [],
      "toc_visible": true
    },
    "kernelspec": {
      "name": "python3",
      "display_name": "Python 3"
    },
    "language_info": {
      "name": "python"
    }
  },
  "cells": [
    {
      "cell_type": "markdown",
      "source": [
        "Calculus - Single Variable Part 1 - Functions\n",
        "\n",
        "# **Exam_6-Core_Homework-Expansion_Points**\n",
        "\n",
        "By: Michael Spencer 8/13/2023\n",
        "\n",
        "University of Pennsylvania - Coursera"
      ],
      "metadata": {
        "id": "ceBP4NVpzrnW"
      }
    },
    {
      "cell_type": "markdown",
      "source": [
        "## 1. Which of the following are Taylor series about $x=1$ ? Check all that apply.\n",
        "\n",
        "a. $25\\ln(x-1)+(x-1)^2 + (x-1)^4 + H.O.T.$\n",
        "\n",
        "b. $\\frac{1}{2}+3(x-1)+\\frac{4}{45}(x-1)^2 +\\frac{1}{90}(x-1)^3$\n",
        "\n",
        "c. $\\sum_{k=0}^{\\infty}\\frac{\\pi^{2k}}{(2k+1)!}(x-1)^{k-1}$\n",
        "\n",
        "d. $1+x^2 + \\frac{3}{16}x^3 + \\frac{1}{90}x^4 + H.O.T.$\n",
        "\n",
        "e. $\\sum_{k=0}^{\\infty}\\frac{2k}{k!}(x-1)^{k}$\n",
        "\n",
        "f. $1+(x-1)+(x-1)^2 + (x-1)^3 + H.O.T.$"
      ],
      "metadata": {
        "id": "FDf3KeWh0pKv"
      }
    },
    {
      "cell_type": "markdown",
      "source": [
        "A Taylor series about $x = 1$ can be written in the form:\n",
        "\n",
        "$f(x)=f(1)+f'(1)(x-1)+\\frac{f''(1)}{2!}(x-1)^2 + \\frac{f'''(1)}{3!}(x-1)^3$\n",
        "\n",
        "Let's check each option to see which ones match this form:\n",
        "\n",
        "a. $25\\ln(x-1)+(x-1)^2 + (x-1)^4 + H.O.T.$\n",
        "This doesn't match the form of a Taylor series since it includes a logarithmic term and an even degree term that isn't multiplied by a derivative.\n",
        "\n",
        "b. $\\frac{1}{2}+3(x-1)+\\frac{4}{45}(x-1)^2 +\\frac{1}{90}(x-1)^3$\n",
        "This matches the form of a Taylor series, as it is a polynomial centered at $x = 1$.\n",
        "\n",
        "c. $\\sum_{k=0}^{\\infty}\\frac{\\pi^{2k}}{(2k+1)!}(x-1)^{k-1}$\n",
        "This doesn't match the form of a Taylor series since it's an infinite series and involves powers of $(x-1)$ raised to varying exponents.\n",
        "\n",
        "d. $1+x^2 + \\frac{3}{16}x^3 + \\frac{1}{90}x^4 + H.O.T.$\n",
        "This doesn't match the form of a Taylor series since it's not centered at $x = 1$.\n",
        "\n",
        "e. $\\sum_{k=0}^{\\infty}\\frac{2k}{k!}(x-1)^{k}$\n",
        "This doesn't match the form of a Taylor series since it's an infinite series and involves powers of $(x-1)$ raised to varying exponents.\n",
        "\n",
        "f. $1+(x-1)+(x-1)^2 + (x-1)^3 + H.O.T.$\n",
        "This matches the form of a Taylor series, as it's a polynomial centered at $x = 1$.\n",
        "\n",
        "So, the options that are Taylor series about $x = 1$ are:\n",
        "\n",
        "b. $\\frac{1}{2}+3(x-1)+\\frac{4}{45}(x-1)^2 +\\frac{1}{90}(x-1)^3$\n",
        "\n",
        "f. $1+(x-1)+(x-1)^2 + (x-1)^3 + H.O.T.$"
      ],
      "metadata": {
        "id": "1JLKnv9z22HY"
      }
    },
    {
      "cell_type": "markdown",
      "source": [
        "## 2. Which of the following is the Taylor series about $x=\\pi$ of $\\cos(2x)$?\n",
        "\n",
        "a. $cos(2x)=\\sum_{k=0}^{\\infty}(-1)^{k}2^{2k}\\frac{(x-\\pi)^{2k}}{(2k)!}$\n",
        "\n",
        "b. $cos(2x)=\\sum_{k=0}^{\\infty}(-1)^{k}\\frac{(x-\\pi)^{2k+1}}{2^{2k+1}(2k+1)!}$\n",
        "\n",
        "c. $cos(2x)=\\sum_{k=0}^{\\infty}(-1)^{k}2^{k}\\frac{(x-\\pi)^{2k}}{(2k)!}$\n",
        "\n",
        "d. $cos(2x)=\\sum_{k=0}^{\\infty}(-1)^{k}2^{k}\\frac{(x-\\pi)^{2k+1}}{(2k+1)!}$\n",
        "\n",
        "e. $cos(2x)=\\sum_{k=0}^{\\infty}(-1)^{k}2^{2k+1}\\frac{(x-\\pi)^{2k+1}}{(2k+1)!}$\n",
        "\n",
        "f. $cos(2x)=\\sum_{k=0}^{\\infty}(-1)^{k}\\frac{(x-\\pi)^{2k}}{2^{2k}(2k)!}$"
      ],
      "metadata": {
        "id": "Kb8nuaZJ6CsL"
      }
    },
    {
      "cell_type": "markdown",
      "source": [
        "The correct options for the Taylor series of $cos(2x)$ about $x=\\pi$ are:\n",
        "\n",
        "e. $cos(2x)=\\sum_{k=0}^{\\infty}(-1)^{k}2^{2k+1}\\frac{(x-\\pi)^{2k+1}}{(2k+1)!}$"
      ],
      "metadata": {
        "id": "Q7vv2Yyy-L8V"
      }
    },
    {
      "cell_type": "markdown",
      "source": [
        "## 3. Which of the following is the Tatylor series expansion about $x=2$ of $\\frac{1}{x^2}$?\n",
        "\n"
      ],
      "metadata": {
        "id": "IeU9pHX4KFnS"
      }
    },
    {
      "cell_type": "markdown",
      "source": [
        "$= \\frac{1}{4}-\\frac{1}{4}(x-2)+\\frac{3}{16}(x-2)^{2}-\\frac{1}{8}(x-2)^{3}+\\frac{5}{64}(x-2)^{4}+H.O.T.$\n",
        "\n"
      ],
      "metadata": {
        "id": "gQNj9NxsdAwY"
      }
    },
    {
      "cell_type": "markdown",
      "source": [
        "## 4. Which of the following is the Taylor series expansion for $\\arctan(x)$ about $x=1$?\n",
        "\n"
      ],
      "metadata": {
        "id": "soSyyZh-fiIi"
      }
    },
    {
      "cell_type": "markdown",
      "source": [
        "$= \\frac{\\pi}{4}+\\frac{1}{2}(x-1)-\\frac{1}{4}(x-1)^{2}+\\frac{1}{4}(x-1)^{3}-\\frac{5}{16}(x-1)^{4}+H.O.T.$"
      ],
      "metadata": {
        "id": "c3qzHk-Vf0mO"
      }
    },
    {
      "cell_type": "markdown",
      "source": [
        "## 5. Which of the following is the Taylor series expansion of $f(x)=\\sqrt{x+2}$, about $x=2$?\n"
      ],
      "metadata": {
        "id": "51uvQFgSgSXB"
      }
    },
    {
      "cell_type": "markdown",
      "source": [
        "$= 2+\\frac{1}{4}(x-2)-\\frac{1}{32}(x-2)^{2}+\\frac{3}{256}(x-2)^{3}-\\frac{15}{2048}(x-2)^{4}+H.O.T.$"
      ],
      "metadata": {
        "id": "C6KE9_vQhjUS"
      }
    }
  ]
}